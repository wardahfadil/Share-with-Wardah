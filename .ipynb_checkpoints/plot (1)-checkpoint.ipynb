{
 "metadata": {
  "name": "",
  "signature": "sha256:80c056c399b77728cbf682eb95b6a1ecf95a713bcec6068430789d962bbe724a"
 },
 "nbformat": 3,
 "nbformat_minor": 0,
 "worksheets": [
  {
   "cells": [
    {
     "cell_type": "heading",
     "level": 1,
     "metadata": {},
     "source": [
      "Cold Funtion Plot - First Attempt"
     ]
    },
    {
     "cell_type": "code",
     "collapsed": false,
     "input": [
      "import numpy as np\n",
      "import matplotlib.pyplot as plt\n",
      "\n",
      "\n",
      "v0 = 163.16\n",
      "kprime = 4.160\n",
      "k0 = 243.8\n",
      "v1 = 162.12\n",
      "kprime1 = 4.044\n",
      "k1 = 262.3\n",
      "x1 = np.arange(1,170)    \n",
      "y = []\n",
      "z = []\n",
      "for x in range(1,170):\n",
      "    #print x\n",
      "    #print v0,kprime, k0\n",
      "    temp = (x/v0)**(1./3)\n",
      "    temp1 = (x/v1)**(1./3)\n",
      "    #print temp, temp1\n",
      "    y1 = 3*k0*(1-temp)*temp**(-2)\n",
      "    z1 = 3*k1*(1-temp1)*temp1**(-2)\n",
      "    #print y1,z1\n",
      "    y.append(y1)\n",
      "    z.append(z1)\n",
      "#print y,z\n",
      "plt.plot(x1,y,'r',z,'b')\n",
      "    \n",
      "plt.xlabel('Pressure')\n",
      "plt.ylabel('Volume')\n",
      "plt.ylim([0,20000])\n",
      "plt.xlim([0,140])\n",
      "plt.title('Cold Function Plot')\n",
      "plt.show()"
     ],
     "language": "python",
     "metadata": {},
     "outputs": [],
     "prompt_number": 5
    },
    {
     "cell_type": "heading",
     "level": 1,
     "metadata": {},
     "source": [
      "Hot Function Plot"
     ]
    },
    {
     "cell_type": "code",
     "collapsed": false,
     "input": [
      "import numpy as np\n",
      "import matplotlib.pyplot as plt\n",
      "\n",
      "def plotthermalfunction():\n",
      "    x1 = np.linspace(0.01,10,100)    \n",
      "    y = []\n",
      "    z = []\n",
      "    for a in range(1,1000):\n",
      "        x = a/100 +0.00000001\n",
      "        y1 = 3*(0.5 + x*np.log(1-np.exp(x)))\n",
      "        z1 = -3*x*np.log(x)\n",
      "        #print y1,z1\n",
      "        y.append(y1)\n",
      "        z.append(z1)\n",
      "    print y,z\n",
      "    plt.plot(x1,y,'r',z,'b')\n",
      "    plt.title('Hot Function Plot')\n",
      "    plt.show()\n",
      "    "
     ],
     "language": "python",
     "metadata": {},
     "outputs": [],
     "prompt_number": 6
    },
    {
     "cell_type": "heading",
     "level": 1,
     "metadata": {},
     "source": [
      "Einstein Free Energy"
     ]
    },
    {
     "cell_type": "code",
     "collapsed": false,
     "input": [
      "#plot of thermal function\n",
      "import numpy as np\n",
      "import matplotlib.pyplot as plt\n",
      "\n",
      "thermE = np.linspace(0.01,10,100)  \n",
      "# thermal energy relative to vibrational energy\n",
      "FEin = 3*(0.5 +thermE*np.log(1-np.exp(-1/thermE)))\n",
      "FEinHiT = 3*thermE*np.log(1/thermE)\n",
      "\n",
      "plt.plot(thermE,FEin,'k-',thermE,FEinHiT,'rx')\n",
      "plt.title('Free Energy of Einstein Solid')\n",
      "plt.xlabel('Scaled Thermal Energy')\n",
      "plt.ylabel('Scaled Free Energy')\n",
      "plt.show()"
     ],
     "language": "python",
     "metadata": {},
     "outputs": [],
     "prompt_number": 7
    },
    {
     "cell_type": "heading",
     "level": 1,
     "metadata": {},
     "source": [
      "Cold Function Plot - Second Attempt"
     ]
    },
    {
     "cell_type": "code",
     "collapsed": false,
     "input": [
      "#plot of the cold function(Vinet function)\n",
      "import numpy as np\n",
      "import matplotlib.pyplot as plt\n",
      "#v0 = 163.16\n",
      "#kprime = 4.160\n",
      "#k0 = 243.8\n",
      "#v1 = 162.12\n",
      "#kprime1 = 4.044\n",
      "#k1 = 262.3\n",
      "volume = np.linspace(0.01,170,200)\n",
      "temp0 = np.exp(3./2.*(4.160 - 1.)*(1. - (volume/163.16)**(1./3)))\n",
      "temp1 = np.exp(3./2.*(4.044 - 1.)*(1. - (volume/162.12)**(1./3)))\n",
      "zeropercent = 3*243.8*(1-(volume/163.16)**(1./3))*((volume/163.16)**(1./3))**(-2)*temp0\n",
      "thirteenpercent = 3*262.3*(1-(volume/162.12)**(1./3))*((volume/162.12)**(1./3))**(-2)*temp1\n",
      "\n",
      "\n",
      "plt.plot(zeropercent,volume,'r',thirteenpercent, volume ,'b')\n",
      "    \n",
      "plt.xlabel('Pressure')\n",
      "plt.ylabel('Volume')\n",
      "plt.ylim([0,170])\n",
      "plt.xlim([0,150])\n",
      "plt.title('Cold Function Plot')\n",
      "plt.show()\n"
     ],
     "language": "python",
     "metadata": {},
     "outputs": [],
     "prompt_number": 11
    },
    {
     "cell_type": "heading",
     "level": 1,
     "metadata": {},
     "source": [
      "Bulk Modulus Plot - Second Attempt"
     ]
    },
    {
     "cell_type": "code",
     "collapsed": false,
     "input": [
      "#function for the first derivative(bulk modulus)\n",
      "dv = volume[1:] - volume[:-1]\n",
      "dzeropercent = zeropercent[1:] - zeropercent[:-1]\n",
      "dthirteenpercent = thirteenpercent[1:] - thirteenpercent[:-1]\n",
      "slopeZ = dv*(1.0)/dzeropercent\n",
      "slopeTh = dv*(1.0)/dthirteenpercent\n",
      "#print (slopeZ)\n",
      "#print (slopeTh)\n",
      "\n",
      "\n",
      "plt.plot(zeropercent[0:-1], slopeZ, 'r', thirteenpercent[0:-1], slopeTh,'b')\n",
      "plt.xlabel('Pressure')\n",
      "plt.ylabel('Bulk Modulus')\n",
      "plt.xlim([0,150])\n",
      "plt.show()"
     ],
     "language": "python",
     "metadata": {},
     "outputs": [],
     "prompt_number": 12
    },
    {
     "cell_type": "heading",
     "level": 1,
     "metadata": {},
     "source": [
      "Curvature Plot"
     ]
    },
    {
     "cell_type": "code",
     "collapsed": false,
     "input": [
      "#plot of the second derivative\n",
      "dsZ = slopeZ[1:] - slopeZ[:-1]\n",
      "dsTh = slopeTh[1:] - slopeTh[:-1]\n",
      "SecZ = dsZ*(1.0)/dzeropercent[0:-1]\n",
      "SecTh = dsTh*(1.0)/dthirteenpercent[0:-1]\n",
      "\n",
      "plt.plot(zeropercent[1:-1], SecZ, 'r', thirteenpercent[1:-1], SecTh,'b')\n",
      "plt.xlabel('Pressure')\n",
      "plt.ylabel('curvature')\n",
      "plt.xlim([0,150])\n",
      "plt.show()"
     ],
     "language": "python",
     "metadata": {},
     "outputs": []
    },
    {
     "cell_type": "heading",
     "level": 1,
     "metadata": {},
     "source": [
      "2-23-2015 Cold Function Plot"
     ]
    },
    {
     "cell_type": "code",
     "collapsed": false,
     "input": [
      "#plot of the cold function(Vinet function)\n",
      "import numpy as np\n",
      "import matplotlib.pyplot as plt\n",
      "#v0 = 163.16\n",
      "#kprime = 4.160\n",
      "#k0 = 243.8\n",
      "#v1 = 162.12\n",
      "#kprime1 = 4.044\n",
      "#k1 = 262.3\n",
      "V0_0Fe = 163.16\n",
      "volume = np.linspace(0.6,1.05,200)*V0_0Fe\n",
      "temp0 = np.exp(3./2.*(4.160 - 1.)*(1. - (volume/163.16)**(1./3)))\n",
      "temp1 = np.exp(3./2.*(4.044 - 1.)*(1. - (volume/162.12)**(1./3)))\n",
      "zeropercent = 3*243.8*(1-(volume/163.16)**(1./3))*((volume/163.16)**(1./3))**(-2)*temp0\n",
      "thirteenpercent = 3*262.3*(1-(volume/162.12)**(1./3))*((volume/162.12)**(1./3))**(-2)*temp1\n",
      "plt.plot(zeropercent,volume,'r', label = '0%')\n",
      "plt.plot(thirteenpercent, volume ,'b',label = '13%')\n",
      "plt.legend()\n",
      "\n",
      "plt.xlabel('Pressure')\n",
      "plt.ylabel('Volume')\n",
      "plt.ylim([0,170])\n",
      "plt.xlim([0,150])\n",
      "plt.title('Cold Function Plot')\n",
      "plt.show()"
     ],
     "language": "python",
     "metadata": {},
     "outputs": []
    },
    {
     "cell_type": "heading",
     "level": 1,
     "metadata": {},
     "source": [
      "Bulk Modulus Plot"
     ]
    },
    {
     "cell_type": "code",
     "collapsed": false,
     "input": [
      "#function for the first derivative(bulk modulus)\n",
      "dv = volume[:-1] - volume[1:]\n",
      "dzeropercent = zeropercent[:-1] - zeropercent[1:]\n",
      "dthirteenpercent = thirteenpercent[:-1] - thirteenpercent[1:]\n",
      "slopeZ = (-1.0)*volume[1:]*dzeropercent/dv\n",
      "slopeTh = (-1.0)*volume[1:]*dthirteenpercent/dv\n",
      "#print (slopeZ)\n",
      "#print (slopeTh)\n",
      "\n",
      "\n",
      "plt.plot(zeropercent[1:], slopeZ, 'r', label = '0%')\n",
      "plt.plot(thirteenpercent[1:], slopeTh,'b', label = '13%')\n",
      "plt.legend()\n",
      "plt.xlabel('Pressure')\n",
      "plt.ylabel('Bulk Modulus')\n",
      "#plt.xlim([0,150])\n",
      "plt.show()"
     ],
     "language": "python",
     "metadata": {},
     "outputs": [],
     "prompt_number": 4
    },
    {
     "cell_type": "heading",
     "level": 1,
     "metadata": {},
     "source": [
      "2-27-2015 Debye Integral Equation"
     ]
    },
    {
     "cell_type": "code",
     "collapsed": false,
     "input": [
      "import numpy as np\n",
      "from scipy.interpolate import interp1d\n",
      "\n",
      "\n",
      "def debye_fun(x):\n",
      "    \"\"\"\n",
      "    Return debye integral value\n",
      "\n",
      "    - calculation done using interpolation in a lookup table\n",
      "    - interpolation done in log-space where behavior is close to linear\n",
      "    - linear extrapolation is implemented manually\n",
      "    \"\"\"\n",
      "\n",
      "    if(np.isscalar(x)):\n",
      "        assert x >= 0, 'x values must be greater than zero.'\n",
      "    else:\n",
      "        assert all(x >= 0), 'x values must be greater than zero.'\n",
      "    # Lookup table\n",
      "    # interpolate in log space where behavior is nearly linear\n",
      "    debyex = np.array([0.0, 0.1, 0.2, 0.3, 0.4, 0.5, 0.6, 0.7, 0.8, 0.9, 1.0,\n",
      "                       1.1, 1.2, 1.3, 1.4, 1.6, 1.8, 2.0, 2.2, 2.4, 2.6, 2.8,\n",
      "                       3.0, 3.2, 3.4, 3.6, 3.8, 4.0, 4.2, 4.4, 4.6, 4.8, 5.0,\n",
      "                       5.5, 6.0, 6.5, 7.0, 7.5, 8.0, 8.5, 9.0, 9.5, 10.0])\n",
      "    debyelogf = np.array([ 0.0, -0.03770187, -0.07580279, -0.11429475,\n",
      "                          -0.15316866, -0.19241674, -0.2320279 , -0.27199378,\n",
      "                          -0.31230405, -0.35294619, -0.39390815, -0.43518026,\n",
      "                          -0.47674953, -0.51860413, -0.56072866, -0.64573892,\n",
      "                          -0.73167389, -0.81841793, -0.90586032, -0.99388207,\n",
      "                          -1.08236598, -1.17119911, -1.26026101, -1.34944183,\n",
      "                          -1.43863241, -1.52771969, -1.61660856, -1.70519469,\n",
      "                          -1.79338479, -1.88108917, -1.96822938, -2.05471771,\n",
      "                          -2.14049175, -2.35134476, -2.55643273, -2.75507892,\n",
      "                          -2.94682783, -3.13143746, -3.30880053, -3.47894273,\n",
      "                          -3.64199587, -3.79820337, -3.94785746])\n",
      "    # Create interpolation function\n",
      "    logdebfun = interp1d(debyex, debyelogf, kind='cubic', bounds_error=False,\n",
      "                         fill_value=np.nan)\n",
      "    logfval = logdebfun(x)\n",
      "    # Check for extrapolated values indicated by NaN\n",
      "    #   - replace with linear extrapolation\n",
      "    logfval = np.where(x > debyex[-1], debyelogf[-1] + (x - debyex[-1]) *\n",
      "                       (debyelogf[-1]-debyelogf[-2])/(debyex[-1]-debyex[-2]),\n",
      "                       logfval)\n",
      "    # Exponentiate to get integral value\n",
      "    return np.exp(logfval)"
     ],
     "language": "python",
     "metadata": {},
     "outputs": [],
     "prompt_number": 3
    },
    {
     "cell_type": "heading",
     "level": 1,
     "metadata": {},
     "source": [
      "2-27-2015 Cold Function Plot - Third Attempt"
     ]
    },
    {
     "cell_type": "code",
     "collapsed": false,
     "input": [
      "#plot of the cold function(Vinet function)\n",
      "import numpy as np\n",
      "import matplotlib.pyplot as plt\n",
      "#v0 = 163.16\n",
      "#kprime = 4.160\n",
      "#k0 = 243.8\n",
      "#v1 = 162.12\n",
      "#kprime1 = 4.044\n",
      "#k1 = 262.3\n",
      "V0_0Fe = 163.16\n",
      "volume = np.linspace(0.6,1.05,200)*V0_0Fe\n",
      "temp0 = np.exp(3./2.*(4.160 - 1.)*(1. - (volume/163.16)**(1./3)))\n",
      "temp1 = np.exp(3./2.*(4.044 - 1.)*(1. - (volume/162.12)**(1./3)))\n",
      "zeropercent = 3*243.8*(1-(volume/163.16)**(1./3))*((volume/163.16)**(1./3))**(-2)*temp0\n",
      "thirteenpercent = 3*262.3*(1-(volume/162.12)**(1./3))*((volume/162.12)**(1./3))**(-2)*temp1\n",
      "\n",
      "\n",
      "plt.plot(zeropercent,volume,'r', label = '0%')\n",
      "plt.plot(thirteenpercent, volume ,'b',label = '13%')\n",
      "plt.legend()\n",
      "    \n",
      "plt.xlabel('Pressure')\n",
      "plt.ylabel('Volume')\n",
      "plt.ylim([0,170])\n",
      "plt.xlim([0,150])\n",
      "plt.title('Cold Function Plot')\n",
      "plt.show()\n"
     ],
     "language": "python",
     "metadata": {},
     "outputs": [],
     "prompt_number": 6
    },
    {
     "cell_type": "code",
     "collapsed": false,
     "input": [
      "gammaVZero = 1.675*(volume/162.12)**1.39\n",
      "gammaVThirteen = 1.400 *(volume/163.16)**0.56\n",
      "thetaVZero = 1000/np.exp((gammaVZero - 1.675)/1.39)\n",
      "thetaVThirteen = 1000/np.exp((gammaVThirteen-1.400)/0.56)\n",
      "\n",
      "#plt.plot(volume, gammaVZero)\n",
      "#plt.show()\n",
      "temperature = np.linspace(300, 3000, 5)\n",
      "\n",
      "#compute the P_thermal(V,300K)\n",
      "Debye_Int_Zero = debye_fun(thetaVZero/300.0)\n",
      "Debye_Int_Thirteen = debye_fun(thetaVThirteen/300.0)\n",
      "\n",
      "# Only approximate, fix later\n",
      "C_DP = 25\n",
      "P_th300_Zero = C_DP*gammaVZero*300.0*Debye_Int_Zero/volume\n",
      "P_th300_Thirteen = C_DP*gammaVThirteen*300.0*Debye_Int_Thirteen/volume\n",
      "\n",
      "P_th_Zero = np.zeros([len(temperature),len(volume)])\n",
      "P_th_Thirteen = np.zeros([len(temperature),len(volume)])\n",
      "\n",
      "#compute P_th in different temperatures\n",
      "for ind,t in enumerate(temperature):\n",
      "    tmp_Debye_Int_Zero = debye_fun(thetaVZero/t)\n",
      "    tmp_Debye_Int_Thirteen = debye_fun(thetaVThirteen/t)\n",
      "    tmp_P_th_Zero = (C_DP*gammaVZero*t*tmp_Debye_Int_Zero)/volume\n",
      "    tmp_P_th_Thirteen = (C_DP*gammaVThirteen*t*tmp_Debye_Int_Thirteen)/volume\n",
      "    P_th_Zero[ind,] = tmp_P_th_Zero\n",
      "    P_th_Thirteen[ind,] = tmp_P_th_Thirteen\n",
      "    #P_th_Zero.append(tmp_P_th_Zero)\n",
      "    #P_th_Thirteen.append(tmp_P_th_Thirteen)\n",
      "\n",
      "#compute P(V,T)\n",
      "Pressure_Zero = np.tile(zeropercent,(len(temperature),1)) + P_th_Zero -  np.tile(P_th300_Zero,(len(temperature),1))\n",
      "Pressure_Thirteen = thirteenpercent + P_th_Thirteen - P_th300_Thirteen\n",
      "\n",
      "#plot\n",
      "#plt.plot(volume,Pressure_Zero[1])\n",
      "for i in range(0,5):\n",
      "    plt.plot(Pressure_Zero[i] ,volume,  'r')\n",
      "    #plt.plot(volume, Pressure_Thirteen[0],'b')\n",
      "#plt.legend()\n",
      "plt.ylabel('Volume [Ang^3]')\n",
      "plt.xlabel('Pressure [GPa]')\n",
      "#plt.xlim([0,150])\n",
      "plt.show()"
     ],
     "language": "python",
     "metadata": {},
     "outputs": [
      {
       "ename": "NameError",
       "evalue": "name 'debye_fun' is not defined",
       "output_type": "pyerr",
       "traceback": [
        "\u001b[0;31m---------------------------------------------------------------------------\u001b[0m\n\u001b[0;31mNameError\u001b[0m                                 Traceback (most recent call last)",
        "\u001b[0;32m<ipython-input-7-53092be72d09>\u001b[0m in \u001b[0;36m<module>\u001b[0;34m()\u001b[0m\n\u001b[1;32m      9\u001b[0m \u001b[0;34m\u001b[0m\u001b[0m\n\u001b[1;32m     10\u001b[0m \u001b[0;31m#compute the P_thermal(V,300K)\u001b[0m\u001b[0;34m\u001b[0m\u001b[0;34m\u001b[0m\u001b[0m\n\u001b[0;32m---> 11\u001b[0;31m \u001b[0mDebye_Int_Zero\u001b[0m \u001b[0;34m=\u001b[0m \u001b[0mdebye_fun\u001b[0m\u001b[0;34m(\u001b[0m\u001b[0mthetaVZero\u001b[0m\u001b[0;34m/\u001b[0m\u001b[0;36m300.0\u001b[0m\u001b[0;34m)\u001b[0m\u001b[0;34m\u001b[0m\u001b[0m\n\u001b[0m\u001b[1;32m     12\u001b[0m \u001b[0mDebye_Int_Thirteen\u001b[0m \u001b[0;34m=\u001b[0m \u001b[0mdebye_fun\u001b[0m\u001b[0;34m(\u001b[0m\u001b[0mthetaVThirteen\u001b[0m\u001b[0;34m/\u001b[0m\u001b[0;36m300.0\u001b[0m\u001b[0;34m)\u001b[0m\u001b[0;34m\u001b[0m\u001b[0m\n\u001b[1;32m     13\u001b[0m \u001b[0;34m\u001b[0m\u001b[0m\n",
        "\u001b[0;31mNameError\u001b[0m: name 'debye_fun' is not defined"
       ]
      }
     ],
     "prompt_number": 7
    },
    {
     "cell_type": "code",
     "collapsed": false,
     "input": [
      "Pressure_Zero[0]"
     ],
     "language": "python",
     "metadata": {},
     "outputs": [
      {
       "ename": "NameError",
       "evalue": "name 'Pressure_Zero' is not defined",
       "output_type": "pyerr",
       "traceback": [
        "\u001b[0;31m---------------------------------------------------------------------------\u001b[0m\n\u001b[0;31mNameError\u001b[0m                                 Traceback (most recent call last)",
        "\u001b[0;32m<ipython-input-8-c8bef33ea683>\u001b[0m in \u001b[0;36m<module>\u001b[0;34m()\u001b[0m\n\u001b[0;32m----> 1\u001b[0;31m \u001b[0mPressure_Zero\u001b[0m\u001b[0;34m[\u001b[0m\u001b[0;36m0\u001b[0m\u001b[0;34m]\u001b[0m\u001b[0;34m\u001b[0m\u001b[0m\n\u001b[0m",
        "\u001b[0;31mNameError\u001b[0m: name 'Pressure_Zero' is not defined"
       ]
      }
     ],
     "prompt_number": 8
    },
    {
     "cell_type": "code",
     "collapsed": false,
     "input": [
      "Pressure_Zero[0,]-zeropercent"
     ],
     "language": "python",
     "metadata": {},
     "outputs": [
      {
       "ename": "NameError",
       "evalue": "name 'Pressure_Zero' is not defined",
       "output_type": "pyerr",
       "traceback": [
        "\u001b[0;31m---------------------------------------------------------------------------\u001b[0m\n\u001b[0;31mNameError\u001b[0m                                 Traceback (most recent call last)",
        "\u001b[0;32m<ipython-input-9-a58bde5e7531>\u001b[0m in \u001b[0;36m<module>\u001b[0;34m()\u001b[0m\n\u001b[0;32m----> 1\u001b[0;31m \u001b[0mPressure_Zero\u001b[0m\u001b[0;34m[\u001b[0m\u001b[0;36m0\u001b[0m\u001b[0;34m,\u001b[0m\u001b[0;34m]\u001b[0m\u001b[0;34m-\u001b[0m\u001b[0mzeropercent\u001b[0m\u001b[0;34m\u001b[0m\u001b[0m\n\u001b[0m",
        "\u001b[0;31mNameError\u001b[0m: name 'Pressure_Zero' is not defined"
       ]
      }
     ],
     "prompt_number": 9
    },
    {
     "cell_type": "code",
     "collapsed": false,
     "input": [
      "print(volume)"
     ],
     "language": "python",
     "metadata": {},
     "outputs": [
      {
       "output_type": "stream",
       "stream": "stdout",
       "text": [
        "[  97.896        98.26495477   98.63390955   99.00286432   99.3718191\n",
        "   99.74077387  100.10972864  100.47868342  100.84763819  101.21659296\n",
        "  101.58554774  101.95450251  102.32345729  102.69241206  103.06136683\n",
        "  103.43032161  103.79927638  104.16823116  104.53718593  104.9061407\n",
        "  105.27509548  105.64405025  106.01300503  106.3819598   106.75091457\n",
        "  107.11986935  107.48882412  107.85777889  108.22673367  108.59568844\n",
        "  108.96464322  109.33359799  109.70255276  110.07150754  110.44046231\n",
        "  110.80941709  111.17837186  111.54732663  111.91628141  112.28523618\n",
        "  112.65419095  113.02314573  113.3921005   113.76105528  114.13001005\n",
        "  114.49896482  114.8679196   115.23687437  115.60582915  115.97478392\n",
        "  116.34373869  116.71269347  117.08164824  117.45060302  117.81955779\n",
        "  118.18851256  118.55746734  118.92642211  119.29537688  119.66433166\n",
        "  120.03328643  120.40224121  120.77119598  121.14015075  121.50910553\n",
        "  121.8780603   122.24701508  122.61596985  122.98492462  123.3538794\n",
        "  123.72283417  124.09178894  124.46074372  124.82969849  125.19865327\n",
        "  125.56760804  125.93656281  126.30551759  126.67447236  127.04342714\n",
        "  127.41238191  127.78133668  128.15029146  128.51924623  128.88820101\n",
        "  129.25715578  129.62611055  129.99506533  130.3640201   130.73297487\n",
        "  131.10192965  131.47088442  131.8398392   132.20879397  132.57774874\n",
        "  132.94670352  133.31565829  133.68461307  134.05356784  134.42252261\n",
        "  134.79147739  135.16043216  135.52938693  135.89834171  136.26729648\n",
        "  136.63625126  137.00520603  137.3741608   137.74311558  138.11207035\n",
        "  138.48102513  138.8499799   139.21893467  139.58788945  139.95684422\n",
        "  140.32579899  140.69475377  141.06370854  141.43266332  141.80161809\n",
        "  142.17057286  142.53952764  142.90848241  143.27743719  143.64639196\n",
        "  144.01534673  144.38430151  144.75325628  145.12221106  145.49116583\n",
        "  145.8601206   146.22907538  146.59803015  146.96698492  147.3359397\n",
        "  147.70489447  148.07384925  148.44280402  148.81175879  149.18071357\n",
        "  149.54966834  149.91862312  150.28757789  150.65653266  151.02548744\n",
        "  151.39444221  151.76339698  152.13235176  152.50130653  152.87026131\n",
        "  153.23921608  153.60817085  153.97712563  154.3460804   154.71503518\n",
        "  155.08398995  155.45294472  155.8218995   156.19085427  156.55980905\n",
        "  156.92876382  157.29771859  157.66667337  158.03562814  158.40458291\n",
        "  158.77353769  159.14249246  159.51144724  159.88040201  160.24935678\n",
        "  160.61831156  160.98726633  161.35622111  161.72517588  162.09413065\n",
        "  162.46308543  162.8320402   163.20099497  163.56994975  163.93890452\n",
        "  164.3078593   164.67681407  165.04576884  165.41472362  165.78367839\n",
        "  166.15263317  166.52158794  166.89054271  167.25949749  167.62845226\n",
        "  167.99740704  168.36636181  168.73531658  169.10427136  169.47322613\n",
        "  169.8421809   170.21113568  170.58009045  170.94904523  171.318     ]\n"
       ]
      }
     ],
     "prompt_number": 10
    },
    {
     "cell_type": "code",
     "collapsed": false,
     "input": [
      "#plot of the second derivative\n",
      "dsZ = slopeZ[1:] - slopeZ[:-1]\n",
      "dsTh = slopeTh[1:] - slopeTh[:-1]\n",
      "SecZ = dsZ*(1.0)/dzeropercent[0:-1]\n",
      "SecTh = dsTh*(1.0)/dthirteenpercent[0:-1]\n",
      "\n",
      "plt.plot(zeropercent[1:-1], SecZ, 'r',label = '0%')\n",
      "plt.plot(thirteenpercent[1:-1], SecTh,'b',label = '13%')\n",
      "plt.legend()\n",
      "plt.xlabel('Pressure')\n",
      "plt.ylabel('curvature')\n",
      "plt.xlim([0,150])\n",
      "plt.show()"
     ],
     "language": "python",
     "metadata": {},
     "outputs": [
      {
       "ename": "NameError",
       "evalue": "name 'slopeZ' is not defined",
       "output_type": "pyerr",
       "traceback": [
        "\u001b[0;31m---------------------------------------------------------------------------\u001b[0m\n\u001b[0;31mNameError\u001b[0m                                 Traceback (most recent call last)",
        "\u001b[0;32m<ipython-input-11-d610b716ce37>\u001b[0m in \u001b[0;36m<module>\u001b[0;34m()\u001b[0m\n\u001b[1;32m      1\u001b[0m \u001b[0;31m#plot of the second derivative\u001b[0m\u001b[0;34m\u001b[0m\u001b[0;34m\u001b[0m\u001b[0m\n\u001b[0;32m----> 2\u001b[0;31m \u001b[0mdsZ\u001b[0m \u001b[0;34m=\u001b[0m \u001b[0mslopeZ\u001b[0m\u001b[0;34m[\u001b[0m\u001b[0;36m1\u001b[0m\u001b[0;34m:\u001b[0m\u001b[0;34m]\u001b[0m \u001b[0;34m-\u001b[0m \u001b[0mslopeZ\u001b[0m\u001b[0;34m[\u001b[0m\u001b[0;34m:\u001b[0m\u001b[0;34m-\u001b[0m\u001b[0;36m1\u001b[0m\u001b[0;34m]\u001b[0m\u001b[0;34m\u001b[0m\u001b[0m\n\u001b[0m\u001b[1;32m      3\u001b[0m \u001b[0mdsTh\u001b[0m \u001b[0;34m=\u001b[0m \u001b[0mslopeTh\u001b[0m\u001b[0;34m[\u001b[0m\u001b[0;36m1\u001b[0m\u001b[0;34m:\u001b[0m\u001b[0;34m]\u001b[0m \u001b[0;34m-\u001b[0m \u001b[0mslopeTh\u001b[0m\u001b[0;34m[\u001b[0m\u001b[0;34m:\u001b[0m\u001b[0;34m-\u001b[0m\u001b[0;36m1\u001b[0m\u001b[0;34m]\u001b[0m\u001b[0;34m\u001b[0m\u001b[0m\n\u001b[1;32m      4\u001b[0m \u001b[0mSecZ\u001b[0m \u001b[0;34m=\u001b[0m \u001b[0mdsZ\u001b[0m\u001b[0;34m*\u001b[0m\u001b[0;34m(\u001b[0m\u001b[0;36m1.0\u001b[0m\u001b[0;34m)\u001b[0m\u001b[0;34m/\u001b[0m\u001b[0mdzeropercent\u001b[0m\u001b[0;34m[\u001b[0m\u001b[0;36m0\u001b[0m\u001b[0;34m:\u001b[0m\u001b[0;34m-\u001b[0m\u001b[0;36m1\u001b[0m\u001b[0;34m]\u001b[0m\u001b[0;34m\u001b[0m\u001b[0m\n\u001b[1;32m      5\u001b[0m \u001b[0mSecTh\u001b[0m \u001b[0;34m=\u001b[0m \u001b[0mdsTh\u001b[0m\u001b[0;34m*\u001b[0m\u001b[0;34m(\u001b[0m\u001b[0;36m1.0\u001b[0m\u001b[0;34m)\u001b[0m\u001b[0;34m/\u001b[0m\u001b[0mdthirteenpercent\u001b[0m\u001b[0;34m[\u001b[0m\u001b[0;36m0\u001b[0m\u001b[0;34m:\u001b[0m\u001b[0;34m-\u001b[0m\u001b[0;36m1\u001b[0m\u001b[0;34m]\u001b[0m\u001b[0;34m\u001b[0m\u001b[0m\n",
        "\u001b[0;31mNameError\u001b[0m: name 'slopeZ' is not defined"
       ]
      }
     ],
     "prompt_number": 11
    },
    {
     "cell_type": "code",
     "collapsed": false,
     "input": [],
     "language": "python",
     "metadata": {},
     "outputs": []
    }
   ],
   "metadata": {}
  }
 ]
}