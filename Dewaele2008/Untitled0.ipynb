{
 "metadata": {
  "name": "",
  "signature": "sha256:437d3a8e0a853e5581b154c6234b52b29df2417304a27866d626a0ad27a95df8"
 },
 "nbformat": 3,
 "nbformat_minor": 0,
 "worksheets": [
  {
   "cells": [
    {
     "cell_type": "code",
     "collapsed": false,
     "input": [
      "import numpy as np\n",
      "import matplotlib.pyplot as plt\n",
      "Nedat = np.loadtxt(fname='Ne.md', delimiter='|', skiprows=3)"
     ],
     "language": "python",
     "metadata": {},
     "outputs": [],
     "prompt_number": 3
    },
    {
     "cell_type": "code",
     "collapsed": false,
     "input": [
      "plt.ion\n",
      "plt.plot(Nedat[:,2], Nedat[:,1], 'ko')\n",
      "plt.xlabel('Pressure[GPa]')\n",
      "plt.ylabel('Volume[A3/atom]')\n",
      "plt.title('Dewaele(2008) Ne data')\n",
      "plt.xlim([0,210])\n",
      "plt.ylim([0,15])\n",
      "plt.draw()"
     ],
     "language": "python",
     "metadata": {},
     "outputs": [],
     "prompt_number": 2
    },
    {
     "cell_type": "code",
     "collapsed": false,
     "input": [],
     "language": "python",
     "metadata": {},
     "outputs": []
    }
   ],
   "metadata": {}
  }
 ]
}