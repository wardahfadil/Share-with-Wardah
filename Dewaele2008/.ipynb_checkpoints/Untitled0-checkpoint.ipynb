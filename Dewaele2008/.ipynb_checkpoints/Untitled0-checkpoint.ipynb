{
 "metadata": {
  "name": "",
  "signature": "sha256:54093c4254927f4adc3a0a7af3618f147fffafd3f359c51c97f23d688352dc30"
 },
 "nbformat": 3,
 "nbformat_minor": 0,
 "worksheets": []
}